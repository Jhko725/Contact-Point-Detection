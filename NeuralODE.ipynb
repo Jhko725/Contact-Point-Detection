{
 "cells": [
  {
   "cell_type": "code",
   "execution_count": 1,
   "metadata": {},
   "outputs": [],
   "source": [
    "import numpy as np\n",
    "import os\n",
    "from scipy.integrate import solve_ivp\n",
    "import matplotlib.pyplot as plt\n",
    "from cp_detection.NeuralODE import GeneralModeDataset, LightningTrainer\n",
    "from cp_detection.ForceSimulation import ForcedHarmonicOscillator,  SimulateGeneralMode\n",
    "from cp_detection.InteractionForce import DMT_Maugis\n",
    "import torch"
   ]
  },
  {
   "cell_type": "markdown",
   "metadata": {},
   "source": [
    "## Define force model as well as QTF model to be used in simulating data"
   ]
  },
  {
   "cell_type": "code",
   "execution_count": 2,
   "metadata": {},
   "outputs": [],
   "source": [
    "DMT = DMT_Maugis(0.2, 10, 2, 130, 1, 0.3, 0.3)\n",
    "ode_params = {'Q':12000, 'A0':1, 'Om':1., 'k':1000}\n",
    "FHO = ForcedHarmonicOscillator(**ode_params, force_model = DMT)\n",
    "#FHO = ForcedHarmonicOscillator(**ode_params, force_model = Null)"
   ]
  },
  {
   "cell_type": "markdown",
   "metadata": {},
   "source": [
    "## Simulate general mode approach curve data"
   ]
  },
  {
   "cell_type": "raw",
   "metadata": {},
   "source": [
    "d_array = np.linspace(1, 10, 20)\n",
    "t, z_array = SimulateGeneralMode(FHO, d_array, 0.1, 10000, relaxation = 0, rtol = 1e-7)\n",
    "z_array.shape"
   ]
  },
  {
   "cell_type": "raw",
   "metadata": {
    "scrolled": true
   },
   "source": [
    "_, ax = plt.subplots(1, 1, figsize = (16, 5))\n",
    "ax.plot(t[-1000:], z_array[0,:], 'k')\n",
    "ax.grid(ls = '--')\n",
    "ax.axvline(x = 5*2*ode_params['Q'], color = 'b')\n",
    "#ax.axvline(x = 10*2*ode_params['Q'], color = 'r')"
   ]
  },
  {
   "cell_type": "raw",
   "metadata": {},
   "source": [
    "import json\n",
    "savepath = './Data/transient_test2.json'\n",
    "savedata = {'ode_params':ode_params, 'd_array': d_array.tolist(), 'z_array': z_array.tolist(), 't' : t.tolist()}\n",
    "with open(savepath, 'w') as savefile:\n",
    "    json.dump(savedata, savefile)"
   ]
  },
  {
   "cell_type": "raw",
   "metadata": {},
   "source": [
    "savepath = './Data/digital.json'\n",
    "train_dataset = GeneralModeDataset.load(savepath)\n",
    "train_dataset.t = np.arange(1000)*0.1\n",
    "print(train_dataset.t)\n",
    "train_dataset.save('./Data/digital_fast.json')"
   ]
  },
  {
   "cell_type": "markdown",
   "metadata": {},
   "source": [
    "## Load simulated data and train the model"
   ]
  },
  {
   "cell_type": "code",
   "execution_count": 3,
   "metadata": {},
   "outputs": [],
   "source": [
    "#savepath = './Data/digital.json'\n",
    "#savepath = './Data/prototype_fake_data.json'\n",
    "#savepath = './Data/digital_snr=1000.json'\n",
    "savepath = './Data/digital_fast.json'\n",
    "hidden_nodes = torch.Tensor([50, 50, 50, 50])\n",
    "train_dataset = GeneralModeDataset.load(savepath)"
   ]
  },
  {
   "cell_type": "code",
   "execution_count": 4,
   "metadata": {},
   "outputs": [
    {
     "name": "stdout",
     "output_type": "stream",
     "text": [
      "GPU is available\n"
     ]
    }
   ],
   "source": [
    "if torch.cuda.is_available:\n",
    "    device = torch.device(\"cuda\")\n",
    "    print(\"GPU is available\")\n",
    "else:\n",
    "    device = torch.device(\"cpu\")\n",
    "    print(\"GPU not available, CPU used\")"
   ]
  },
  {
   "cell_type": "code",
   "execution_count": 5,
   "metadata": {},
   "outputs": [],
   "source": [
    "from argparse import Namespace\n",
    "hparams = Namespace(**{'lr': 0.01, 'batch_size': 20, 'solver': 'rk4', 'fft_loss': False, 'train_dataset_path': savepath, 'hidden_nodes': hidden_nodes})\n",
    "model = LightningTrainer(hparams)"
   ]
  },
  {
   "cell_type": "code",
   "execution_count": 6,
   "metadata": {},
   "outputs": [
    {
     "name": "stdout",
     "output_type": "stream",
     "text": [
      "<class 'torch.Tensor'> torch.Size([20])\n",
      "<class 'torch.Tensor'> torch.Size([50, 1])\n",
      "<class 'torch.Tensor'> torch.Size([50])\n",
      "<class 'torch.Tensor'> torch.Size([50, 50])\n",
      "<class 'torch.Tensor'> torch.Size([50])\n",
      "<class 'torch.Tensor'> torch.Size([50, 50])\n",
      "<class 'torch.Tensor'> torch.Size([50])\n",
      "<class 'torch.Tensor'> torch.Size([50, 50])\n",
      "<class 'torch.Tensor'> torch.Size([50])\n",
      "<class 'torch.Tensor'> torch.Size([1, 50])\n",
      "<class 'torch.Tensor'> torch.Size([1])\n"
     ]
    }
   ],
   "source": [
    "for param in model.parameters():\n",
    "    print(type(param.data), param.size())\n"
   ]
  },
  {
   "cell_type": "code",
   "execution_count": 7,
   "metadata": {
    "scrolled": true
   },
   "outputs": [
    {
     "name": "stderr",
     "output_type": "stream",
     "text": [
      "/home/jhko725/anaconda3/envs/TorchDiff/lib/python3.7/site-packages/pytorch_lightning/utilities/warnings.py:18: UserWarning: Checkpoint directory ./checkpoints exists and is not empty with save_top_k != 0.All files in this directory will be deleted when a checkpoint is saved!\n",
      "  warnings.warn(*args, **kwargs)\n",
      "INFO:lightning:GPU available: True, used: True\n",
      "INFO:lightning:VISIBLE GPUS: 0\n",
      "INFO:lightning:\n",
      "  | Name            | Type          | Params\n",
      "----------------------------------------------\n",
      "0 | ODE             | AFM_NeuralODE | 7 K   \n",
      "1 | ODE.Fc          | F_cons        | 7 K   \n",
      "2 | ODE.Fc.layers   | ModuleList    | 7 K   \n",
      "3 | ODE.Fc.layers.0 | Linear        | 100   \n",
      "4 | ODE.Fc.layers.1 | Linear        | 2 K   \n",
      "5 | ODE.Fc.layers.2 | Linear        | 2 K   \n",
      "6 | ODE.Fc.layers.3 | Linear        | 2 K   \n",
      "7 | ODE.Fc.layers.4 | Linear        | 51    \n",
      "8 | ODE.Fc.elu      | ELU           | 0     \n",
      "9 | ODE.Fc.tanh     | Tanh          | 0     \n"
     ]
    },
    {
     "data": {
      "application/vnd.jupyter.widget-view+json": {
       "model_id": "d865b95fc254498cb3f01882746043f8",
       "version_major": 2,
       "version_minor": 0
      },
      "text/plain": [
       "HBox(children=(FloatProgress(value=1.0, bar_style='info', layout=Layout(flex='2'), max=1.0), HTML(value='')), …"
      ]
     },
     "metadata": {},
     "output_type": "display_data"
    },
    {
     "name": "stderr",
     "output_type": "stream",
     "text": [
      "/home/jhko725/anaconda3/envs/TorchDiff/lib/python3.7/site-packages/pytorch_lightning/utilities/warnings.py:18: RuntimeWarning: Displayed epoch numbers in the progress bar start from \"1\" until v0.6.x, but will start from \"0\" in v0.8.0.\n",
      "  warnings.warn(*args, **kwargs)\n",
      "/home/jhko725/anaconda3/envs/TorchDiff/lib/python3.7/site-packages/pytorch_lightning/utilities/warnings.py:18: UserWarning: The dataloader, train dataloader, does not have many workers which may be a bottleneck. Consider increasing the value of the `num_workers` argument` in the `DataLoader` init to improve performance.\n",
      "  warnings.warn(*args, **kwargs)\n",
      "INFO:lightning:\n",
      "Epoch 00000: loss reached 0.00009 (best 0.00009), saving model to ./checkpoints/epoch=0_v1.ckpt as top 1\n",
      "INFO:lightning:\n",
      "Epoch 00001: loss reached 0.00002 (best 0.00002), saving model to ./checkpoints/epoch=1_v0.ckpt as top 1\n",
      "INFO:lightning:\n",
      "Epoch 00002: loss reached 0.00001 (best 0.00001), saving model to ./checkpoints/epoch=2_v0.ckpt as top 1\n",
      "INFO:lightning:\n",
      "Epoch 00003: loss  was not in top 1\n",
      "INFO:lightning:\n",
      "Epoch 00004: loss  was not in top 1\n",
      "INFO:lightning:\n",
      "Epoch 00005: loss  was not in top 1\n",
      "INFO:lightning:\n",
      "Epoch 00006: loss  was not in top 1\n",
      "INFO:lightning:\n",
      "Epoch 00007: loss reached 0.00000 (best 0.00000), saving model to ./checkpoints/epoch=7.ckpt as top 1\n",
      "INFO:lightning:\n",
      "Epoch 00008: loss  was not in top 1\n",
      "INFO:lightning:\n",
      "Epoch 00009: loss  was not in top 1\n",
      "INFO:lightning:\n",
      "Epoch 00010: loss  was not in top 1\n",
      "INFO:lightning:\n",
      "Epoch 00011: loss  was not in top 1\n",
      "INFO:lightning:\n",
      "Epoch 00012: loss  was not in top 1\n",
      "INFO:lightning:\n",
      "Epoch 00013: loss  was not in top 1\n",
      "INFO:lightning:\n",
      "Epoch 00014: loss reached 0.00000 (best 0.00000), saving model to ./checkpoints/epoch=14.ckpt as top 1\n",
      "INFO:lightning:\n",
      "Epoch 00015: loss reached 0.00000 (best 0.00000), saving model to ./checkpoints/epoch=15.ckpt as top 1\n",
      "INFO:lightning:\n",
      "Epoch 00016: loss  was not in top 1\n",
      "INFO:lightning:\n",
      "Epoch 00017: loss  was not in top 1\n",
      "INFO:lightning:\n",
      "Epoch 00018: loss  was not in top 1\n",
      "INFO:lightning:\n",
      "Epoch 00019: loss  was not in top 1\n",
      "INFO:lightning:\n",
      "Epoch 00020: loss reached 0.00000 (best 0.00000), saving model to ./checkpoints/epoch=20.ckpt as top 1\n",
      "INFO:lightning:\n",
      "Epoch 00021: loss reached 0.00000 (best 0.00000), saving model to ./checkpoints/epoch=21.ckpt as top 1\n",
      "INFO:lightning:\n",
      "Epoch 00022: loss reached 0.00000 (best 0.00000), saving model to ./checkpoints/epoch=22.ckpt as top 1\n",
      "INFO:lightning:\n",
      "Epoch 00023: loss  was not in top 1\n",
      "INFO:lightning:\n",
      "Epoch 00024: loss  was not in top 1\n",
      "INFO:lightning:\n",
      "Epoch 00025: loss  was not in top 1\n",
      "INFO:lightning:\n",
      "Epoch 00026: loss  was not in top 1\n",
      "INFO:lightning:\n",
      "Epoch 00027: loss  was not in top 1\n",
      "INFO:lightning:\n",
      "Epoch 00028: loss reached 0.00000 (best 0.00000), saving model to ./checkpoints/epoch=28.ckpt as top 1\n",
      "INFO:lightning:\n",
      "Epoch 00029: loss  was not in top 1\n",
      "INFO:lightning:\n",
      "Epoch 00030: loss  was not in top 1\n",
      "INFO:lightning:\n",
      "Epoch 00031: loss  was not in top 1\n",
      "INFO:lightning:\n",
      "Epoch 00032: loss  was not in top 1\n",
      "INFO:lightning:\n",
      "Epoch 00033: loss  was not in top 1\n",
      "INFO:lightning:\n",
      "Epoch 00034: loss reached 0.00000 (best 0.00000), saving model to ./checkpoints/epoch=34.ckpt as top 1\n",
      "INFO:lightning:\n",
      "Epoch 00035: loss reached 0.00000 (best 0.00000), saving model to ./checkpoints/epoch=35_v0.ckpt as top 1\n",
      "INFO:lightning:\n",
      "Epoch 00036: loss  was not in top 1\n",
      "INFO:lightning:\n",
      "Epoch 00037: loss  was not in top 1\n",
      "INFO:lightning:\n",
      "Epoch 00038: loss  was not in top 1\n",
      "INFO:lightning:\n",
      "Epoch 00039: loss  was not in top 1\n",
      "INFO:lightning:\n",
      "Epoch 00040: loss  was not in top 1\n",
      "INFO:lightning:\n",
      "Epoch 00041: loss reached 0.00000 (best 0.00000), saving model to ./checkpoints/epoch=41.ckpt as top 1\n",
      "INFO:lightning:\n",
      "Epoch 00042: loss reached 0.00000 (best 0.00000), saving model to ./checkpoints/epoch=42.ckpt as top 1\n",
      "INFO:lightning:\n",
      "Epoch 00043: loss  was not in top 1\n",
      "INFO:lightning:\n",
      "Epoch 00044: loss  was not in top 1\n",
      "INFO:lightning:\n",
      "Epoch 00045: loss  was not in top 1\n",
      "INFO:lightning:\n",
      "Epoch 00046: loss  was not in top 1\n",
      "INFO:lightning:\n",
      "Epoch 00047: loss reached 0.00000 (best 0.00000), saving model to ./checkpoints/epoch=47.ckpt as top 1\n",
      "INFO:lightning:\n",
      "Epoch 00048: loss reached 0.00000 (best 0.00000), saving model to ./checkpoints/epoch=48.ckpt as top 1\n",
      "INFO:lightning:\n",
      "Epoch 00049: loss  was not in top 1\n",
      "INFO:lightning:\n",
      "Epoch 00050: loss  was not in top 1\n",
      "INFO:lightning:\n",
      "Epoch 00051: loss  was not in top 1\n",
      "INFO:lightning:\n",
      "Epoch 00052: loss  was not in top 1\n",
      "INFO:lightning:\n",
      "Epoch 00053: loss reached 0.00000 (best 0.00000), saving model to ./checkpoints/epoch=53.ckpt as top 1\n",
      "INFO:lightning:\n",
      "Epoch 00054: loss reached 0.00000 (best 0.00000), saving model to ./checkpoints/epoch=54.ckpt as top 1\n",
      "INFO:lightning:\n",
      "Epoch 00055: loss reached 0.00000 (best 0.00000), saving model to ./checkpoints/epoch=55.ckpt as top 1\n",
      "INFO:lightning:\n",
      "Epoch 00056: loss  was not in top 1\n",
      "INFO:lightning:\n",
      "Epoch 00057: loss reached 0.00000 (best 0.00000), saving model to ./checkpoints/epoch=57.ckpt as top 1\n",
      "INFO:lightning:\n",
      "Epoch 00058: loss reached 0.00000 (best 0.00000), saving model to ./checkpoints/epoch=58.ckpt as top 1\n",
      "INFO:lightning:\n",
      "Epoch 00059: loss reached 0.00000 (best 0.00000), saving model to ./checkpoints/epoch=59.ckpt as top 1\n",
      "INFO:lightning:\n",
      "Epoch 00060: loss reached 0.00000 (best 0.00000), saving model to ./checkpoints/epoch=60.ckpt as top 1\n",
      "INFO:lightning:\n",
      "Epoch 00061: loss reached 0.00000 (best 0.00000), saving model to ./checkpoints/epoch=61.ckpt as top 1\n",
      "INFO:lightning:\n",
      "Epoch 00062: loss reached 0.00000 (best 0.00000), saving model to ./checkpoints/epoch=62.ckpt as top 1\n",
      "INFO:lightning:\n",
      "Epoch 00063: loss  was not in top 1\n",
      "INFO:lightning:\n",
      "Epoch 00064: loss  was not in top 1\n",
      "INFO:lightning:\n",
      "Epoch 00065: loss reached 0.00000 (best 0.00000), saving model to ./checkpoints/epoch=65.ckpt as top 1\n",
      "INFO:lightning:\n",
      "Epoch 00066: loss  was not in top 1\n",
      "INFO:lightning:\n",
      "Epoch 00067: loss  was not in top 1\n",
      "INFO:lightning:\n",
      "Epoch 00068: loss reached 0.00000 (best 0.00000), saving model to ./checkpoints/epoch=68.ckpt as top 1\n",
      "INFO:lightning:\n",
      "Epoch 00069: loss  was not in top 1\n",
      "INFO:lightning:\n",
      "Epoch 00070: loss reached 0.00000 (best 0.00000), saving model to ./checkpoints/epoch=70.ckpt as top 1\n",
      "INFO:lightning:\n",
      "Epoch 00071: loss reached 0.00000 (best 0.00000), saving model to ./checkpoints/epoch=71.ckpt as top 1\n",
      "INFO:lightning:\n",
      "Epoch 00072: loss  was not in top 1\n",
      "INFO:lightning:\n",
      "Epoch 00073: loss reached 0.00000 (best 0.00000), saving model to ./checkpoints/epoch=73.ckpt as top 1\n",
      "INFO:lightning:\n",
      "Epoch 00074: loss  was not in top 1\n",
      "INFO:lightning:\n",
      "Epoch 00075: loss reached 0.00000 (best 0.00000), saving model to ./checkpoints/epoch=75.ckpt as top 1\n",
      "INFO:lightning:\n",
      "Epoch 00076: loss reached 0.00000 (best 0.00000), saving model to ./checkpoints/epoch=76.ckpt as top 1\n",
      "INFO:lightning:\n",
      "Epoch 00077: loss reached 0.00000 (best 0.00000), saving model to ./checkpoints/epoch=77.ckpt as top 1\n",
      "INFO:lightning:\n",
      "Epoch 00078: loss reached 0.00000 (best 0.00000), saving model to ./checkpoints/epoch=78.ckpt as top 1\n",
      "INFO:lightning:\n",
      "Epoch 00079: loss reached 0.00000 (best 0.00000), saving model to ./checkpoints/epoch=79.ckpt as top 1\n",
      "INFO:lightning:\n",
      "Epoch 00080: loss reached 0.00000 (best 0.00000), saving model to ./checkpoints/epoch=80.ckpt as top 1\n",
      "INFO:lightning:\n",
      "Epoch 00081: loss  was not in top 1\n",
      "INFO:lightning:\n",
      "Epoch 00082: loss reached 0.00000 (best 0.00000), saving model to ./checkpoints/epoch=82.ckpt as top 1\n",
      "INFO:lightning:\n",
      "Epoch 00083: loss  was not in top 1\n",
      "INFO:lightning:\n",
      "Epoch 00084: loss  was not in top 1\n",
      "INFO:lightning:\n",
      "Epoch 00085: loss  was not in top 1\n",
      "INFO:lightning:\n",
      "Epoch 00086: loss reached 0.00000 (best 0.00000), saving model to ./checkpoints/epoch=86.ckpt as top 1\n",
      "INFO:lightning:\n",
      "Epoch 00087: loss reached 0.00000 (best 0.00000), saving model to ./checkpoints/epoch=87.ckpt as top 1\n",
      "INFO:lightning:\n",
      "Epoch 00088: loss reached 0.00000 (best 0.00000), saving model to ./checkpoints/epoch=88.ckpt as top 1\n",
      "INFO:lightning:\n",
      "Epoch 00089: loss reached 0.00000 (best 0.00000), saving model to ./checkpoints/epoch=89.ckpt as top 1\n",
      "INFO:lightning:\n",
      "Epoch 00090: loss  was not in top 1\n",
      "INFO:lightning:\n",
      "Epoch 00091: loss  was not in top 1\n",
      "INFO:lightning:\n",
      "Epoch 00092: loss  was not in top 1\n"
     ]
    },
    {
     "name": "stderr",
     "output_type": "stream",
     "text": [
      "INFO:lightning:\n",
      "Epoch 00093: loss  was not in top 1\n",
      "INFO:lightning:\n",
      "Epoch 00094: loss reached 0.00000 (best 0.00000), saving model to ./checkpoints/epoch=94.ckpt as top 1\n",
      "INFO:lightning:\n",
      "Epoch 00095: loss reached 0.00000 (best 0.00000), saving model to ./checkpoints/epoch=95.ckpt as top 1\n",
      "INFO:lightning:\n",
      "Epoch 00096: loss reached 0.00000 (best 0.00000), saving model to ./checkpoints/epoch=96.ckpt as top 1\n",
      "INFO:lightning:\n",
      "Epoch 00097: loss reached 0.00000 (best 0.00000), saving model to ./checkpoints/epoch=97.ckpt as top 1\n",
      "INFO:lightning:\n",
      "Epoch 00098: loss reached 0.00000 (best 0.00000), saving model to ./checkpoints/epoch=98_v0.ckpt as top 1\n",
      "INFO:lightning:\n",
      "Epoch 00099: loss  was not in top 1\n",
      "INFO:lightning:\n",
      "Epoch 00100: loss reached 0.00000 (best 0.00000), saving model to ./checkpoints/epoch=100.ckpt as top 1\n",
      "INFO:lightning:\n",
      "Epoch 00101: loss  was not in top 1\n",
      "INFO:lightning:\n",
      "Epoch 00102: loss reached 0.00000 (best 0.00000), saving model to ./checkpoints/epoch=102.ckpt as top 1\n",
      "INFO:lightning:\n",
      "Epoch 00103: loss  was not in top 1\n",
      "INFO:lightning:\n",
      "Epoch 00104: loss reached 0.00000 (best 0.00000), saving model to ./checkpoints/epoch=104.ckpt as top 1\n",
      "INFO:lightning:\n",
      "Epoch 00105: loss  was not in top 1\n",
      "INFO:lightning:\n",
      "Epoch 00106: loss reached 0.00000 (best 0.00000), saving model to ./checkpoints/epoch=106.ckpt as top 1\n",
      "INFO:lightning:\n",
      "Epoch 00107: loss  was not in top 1\n",
      "INFO:lightning:\n",
      "Epoch 00108: loss reached 0.00000 (best 0.00000), saving model to ./checkpoints/epoch=108.ckpt as top 1\n",
      "INFO:lightning:\n",
      "Epoch 00109: loss reached 0.00000 (best 0.00000), saving model to ./checkpoints/epoch=109.ckpt as top 1\n",
      "INFO:lightning:\n",
      "Epoch 00110: loss reached 0.00000 (best 0.00000), saving model to ./checkpoints/epoch=110.ckpt as top 1\n",
      "INFO:lightning:\n",
      "Epoch 00111: loss reached 0.00000 (best 0.00000), saving model to ./checkpoints/epoch=111.ckpt as top 1\n",
      "INFO:lightning:\n",
      "Epoch 00112: loss reached 0.00000 (best 0.00000), saving model to ./checkpoints/epoch=112.ckpt as top 1\n",
      "INFO:lightning:\n",
      "Epoch 00113: loss reached 0.00000 (best 0.00000), saving model to ./checkpoints/epoch=113.ckpt as top 1\n",
      "INFO:lightning:\n",
      "Epoch 00114: loss  was not in top 1\n",
      "INFO:lightning:\n",
      "Epoch 00115: loss reached 0.00000 (best 0.00000), saving model to ./checkpoints/epoch=115.ckpt as top 1\n",
      "INFO:lightning:\n",
      "Epoch 00116: loss  was not in top 1\n",
      "INFO:lightning:\n",
      "Epoch 00117: loss reached 0.00000 (best 0.00000), saving model to ./checkpoints/epoch=117.ckpt as top 1\n",
      "INFO:lightning:\n",
      "Epoch 00118: loss reached 0.00000 (best 0.00000), saving model to ./checkpoints/epoch=118.ckpt as top 1\n",
      "INFO:lightning:\n",
      "Epoch 00119: loss reached 0.00000 (best 0.00000), saving model to ./checkpoints/epoch=119.ckpt as top 1\n",
      "INFO:lightning:\n",
      "Epoch 00120: loss reached 0.00000 (best 0.00000), saving model to ./checkpoints/epoch=120.ckpt as top 1\n",
      "INFO:lightning:\n",
      "Epoch 00121: loss reached 0.00000 (best 0.00000), saving model to ./checkpoints/epoch=121.ckpt as top 1\n",
      "INFO:lightning:\n",
      "Epoch 00122: loss reached 0.00000 (best 0.00000), saving model to ./checkpoints/epoch=122.ckpt as top 1\n",
      "INFO:lightning:\n",
      "Epoch 00123: loss reached 0.00000 (best 0.00000), saving model to ./checkpoints/epoch=123.ckpt as top 1\n",
      "INFO:lightning:\n",
      "Epoch 00124: loss reached 0.00000 (best 0.00000), saving model to ./checkpoints/epoch=124.ckpt as top 1\n",
      "INFO:lightning:\n",
      "Epoch 00125: loss  was not in top 1\n",
      "INFO:lightning:\n",
      "Epoch 00126: loss reached 0.00000 (best 0.00000), saving model to ./checkpoints/epoch=126.ckpt as top 1\n",
      "INFO:lightning:\n",
      "Epoch 00127: loss reached 0.00000 (best 0.00000), saving model to ./checkpoints/epoch=127.ckpt as top 1\n",
      "INFO:lightning:\n",
      "Epoch 00128: loss reached 0.00000 (best 0.00000), saving model to ./checkpoints/epoch=128.ckpt as top 1\n",
      "INFO:lightning:\n",
      "Epoch 00129: loss reached 0.00000 (best 0.00000), saving model to ./checkpoints/epoch=129.ckpt as top 1\n",
      "INFO:lightning:\n",
      "Epoch 00130: loss reached 0.00000 (best 0.00000), saving model to ./checkpoints/epoch=130.ckpt as top 1\n",
      "INFO:lightning:\n",
      "Epoch 00131: loss reached 0.00000 (best 0.00000), saving model to ./checkpoints/epoch=131.ckpt as top 1\n",
      "INFO:lightning:\n",
      "Epoch 00132: loss reached 0.00000 (best 0.00000), saving model to ./checkpoints/epoch=132.ckpt as top 1\n",
      "INFO:lightning:\n",
      "Epoch 00133: loss reached 0.00000 (best 0.00000), saving model to ./checkpoints/epoch=133.ckpt as top 1\n",
      "INFO:lightning:\n",
      "Epoch 00134: loss reached 0.00000 (best 0.00000), saving model to ./checkpoints/epoch=134.ckpt as top 1\n",
      "INFO:lightning:\n",
      "Epoch 00135: loss reached 0.00000 (best 0.00000), saving model to ./checkpoints/epoch=135.ckpt as top 1\n",
      "INFO:lightning:\n",
      "Epoch 00136: loss reached 0.00000 (best 0.00000), saving model to ./checkpoints/epoch=136_v0.ckpt as top 1\n",
      "INFO:lightning:\n",
      "Epoch 00137: loss reached 0.00000 (best 0.00000), saving model to ./checkpoints/epoch=137.ckpt as top 1\n",
      "INFO:lightning:\n",
      "Epoch 00138: loss reached 0.00000 (best 0.00000), saving model to ./checkpoints/epoch=138.ckpt as top 1\n",
      "INFO:lightning:\n",
      "Epoch 00139: loss  was not in top 1\n",
      "INFO:lightning:\n",
      "Epoch 00140: loss reached 0.00000 (best 0.00000), saving model to ./checkpoints/epoch=140.ckpt as top 1\n",
      "INFO:lightning:\n",
      "Epoch 00141: loss reached 0.00000 (best 0.00000), saving model to ./checkpoints/epoch=141.ckpt as top 1\n",
      "INFO:lightning:\n",
      "Epoch 00142: loss reached 0.00000 (best 0.00000), saving model to ./checkpoints/epoch=142.ckpt as top 1\n",
      "INFO:lightning:\n",
      "Epoch 00143: loss reached 0.00000 (best 0.00000), saving model to ./checkpoints/epoch=143.ckpt as top 1\n",
      "INFO:lightning:\n",
      "Epoch 00144: loss reached 0.00000 (best 0.00000), saving model to ./checkpoints/epoch=144.ckpt as top 1\n",
      "INFO:lightning:\n",
      "Epoch 00145: loss reached 0.00000 (best 0.00000), saving model to ./checkpoints/epoch=145.ckpt as top 1\n",
      "INFO:lightning:\n",
      "Epoch 00146: loss reached 0.00000 (best 0.00000), saving model to ./checkpoints/epoch=146.ckpt as top 1\n",
      "INFO:lightning:\n",
      "Epoch 00147: loss reached 0.00000 (best 0.00000), saving model to ./checkpoints/epoch=147.ckpt as top 1\n",
      "INFO:lightning:\n",
      "Epoch 00148: loss reached 0.00000 (best 0.00000), saving model to ./checkpoints/epoch=148.ckpt as top 1\n",
      "INFO:lightning:\n",
      "Epoch 00149: loss  was not in top 1\n",
      "INFO:lightning:\n",
      "Epoch 00150: loss  was not in top 1\n",
      "INFO:lightning:\n",
      "Epoch 00151: loss  was not in top 1\n",
      "INFO:lightning:\n",
      "Epoch 00152: loss reached 0.00000 (best 0.00000), saving model to ./checkpoints/epoch=152.ckpt as top 1\n",
      "INFO:lightning:\n",
      "Epoch 00153: loss  was not in top 1\n",
      "INFO:lightning:\n",
      "Epoch 00154: loss  was not in top 1\n",
      "INFO:lightning:\n",
      "Epoch 00155: loss reached 0.00000 (best 0.00000), saving model to ./checkpoints/epoch=155.ckpt as top 1\n",
      "INFO:lightning:\n",
      "Epoch 00156: loss reached 0.00000 (best 0.00000), saving model to ./checkpoints/epoch=156.ckpt as top 1\n",
      "INFO:lightning:\n",
      "Epoch 00157: loss reached 0.00000 (best 0.00000), saving model to ./checkpoints/epoch=157.ckpt as top 1\n",
      "INFO:lightning:\n",
      "Epoch 00158: loss  was not in top 1\n",
      "INFO:lightning:\n",
      "Epoch 00159: loss reached 0.00000 (best 0.00000), saving model to ./checkpoints/epoch=159.ckpt as top 1\n",
      "INFO:lightning:\n",
      "Epoch 00160: loss  was not in top 1\n",
      "INFO:lightning:\n",
      "Epoch 00161: loss reached 0.00000 (best 0.00000), saving model to ./checkpoints/epoch=161.ckpt as top 1\n",
      "INFO:lightning:\n",
      "Epoch 00162: loss reached 0.00000 (best 0.00000), saving model to ./checkpoints/epoch=162.ckpt as top 1\n",
      "INFO:lightning:\n",
      "Epoch 00163: loss  was not in top 1\n",
      "INFO:lightning:\n",
      "Epoch 00164: loss reached 0.00000 (best 0.00000), saving model to ./checkpoints/epoch=164.ckpt as top 1\n",
      "INFO:lightning:\n",
      "Epoch 00165: loss reached 0.00000 (best 0.00000), saving model to ./checkpoints/epoch=165.ckpt as top 1\n",
      "INFO:lightning:\n",
      "Epoch 00166: loss reached 0.00000 (best 0.00000), saving model to ./checkpoints/epoch=166.ckpt as top 1\n",
      "INFO:lightning:\n",
      "Epoch 00167: loss reached 0.00000 (best 0.00000), saving model to ./checkpoints/epoch=167.ckpt as top 1\n",
      "INFO:lightning:\n",
      "Epoch 00168: loss reached 0.00000 (best 0.00000), saving model to ./checkpoints/epoch=168.ckpt as top 1\n",
      "INFO:lightning:\n",
      "Epoch 00169: loss  was not in top 1\n",
      "INFO:lightning:\n",
      "Epoch 00170: loss  was not in top 1\n",
      "INFO:lightning:\n",
      "Epoch 00171: loss reached 0.00000 (best 0.00000), saving model to ./checkpoints/epoch=171.ckpt as top 1\n",
      "INFO:lightning:\n",
      "Epoch 00172: loss  was not in top 1\n",
      "INFO:lightning:\n",
      "Epoch 00173: loss  was not in top 1\n"
     ]
    },
    {
     "name": "stderr",
     "output_type": "stream",
     "text": [
      "INFO:lightning:\n",
      "Epoch 00174: loss  was not in top 1\n",
      "INFO:lightning:\n",
      "Epoch 00175: loss  was not in top 1\n",
      "INFO:lightning:\n",
      "Epoch 00176: loss reached 0.00000 (best 0.00000), saving model to ./checkpoints/epoch=176.ckpt as top 1\n",
      "INFO:lightning:\n",
      "Epoch 00177: loss  was not in top 1\n",
      "INFO:lightning:\n",
      "Epoch 00178: loss  was not in top 1\n",
      "INFO:lightning:\n",
      "Epoch 00179: loss  was not in top 1\n",
      "INFO:lightning:\n",
      "Epoch 00180: loss  was not in top 1\n",
      "INFO:lightning:\n",
      "Epoch 00181: loss reached 0.00000 (best 0.00000), saving model to ./checkpoints/epoch=181.ckpt as top 1\n",
      "INFO:lightning:\n",
      "Epoch 00182: loss  was not in top 1\n",
      "INFO:lightning:\n",
      "Epoch 00183: loss  was not in top 1\n",
      "INFO:lightning:\n",
      "Epoch 00184: loss  was not in top 1\n",
      "INFO:lightning:\n",
      "Epoch 00185: loss reached 0.00000 (best 0.00000), saving model to ./checkpoints/epoch=185.ckpt as top 1\n",
      "INFO:lightning:\n",
      "Epoch 00186: loss reached 0.00000 (best 0.00000), saving model to ./checkpoints/epoch=186.ckpt as top 1\n",
      "INFO:lightning:Detected KeyboardInterrupt, attempting graceful shutdown...\n"
     ]
    },
    {
     "name": "stdout",
     "output_type": "stream",
     "text": [
      "\n"
     ]
    }
   ],
   "source": [
    "model.TrainModel(checkpoint_path = './checkpoints')"
   ]
  },
  {
   "cell_type": "markdown",
   "metadata": {},
   "source": [
    "## Load trained model, evaluate results"
   ]
  },
  {
   "cell_type": "code",
   "execution_count": 8,
   "metadata": {},
   "outputs": [],
   "source": [
    "checkpoint_path = './checkpoints/epoch=186.ckpt'\n",
    "#checkpoint_path = './hall_of_fame/20200206/_ckpt_epoch_319.ckpt'\n",
    "model = LightningTrainer.LoadModel(checkpoint_path)"
   ]
  },
  {
   "cell_type": "code",
   "execution_count": 9,
   "metadata": {},
   "outputs": [],
   "source": [
    "d_array = np.linspace(1, 10, 20)\n",
    "model.cuda()\n",
    "F_pred = model.predict_force(d_array)\n",
    "z_array = np.zeros((2, d_array.size))\n",
    "z_array[1, :] = d_array\n",
    "F_true = DMT(z_array).flatten()"
   ]
  },
  {
   "cell_type": "code",
   "execution_count": 10,
   "metadata": {},
   "outputs": [
    {
     "data": {
      "image/png": "[encoded data removed]",
      "text/plain": [
       "<Figure size 504x360 with 1 Axes>"
      ]
     },
     "metadata": {
      "needs_background": "light"
     },
     "output_type": "display_data"
    }
   ],
   "source": [
    "fig, ax = plt.subplots(1, 1, figsize = (7, 5))\n",
    "ax.plot(d_array, F_pred, '.r', label = 'NN prediction')\n",
    "ax.plot(d_array, F_true, '.k', label = 'True Force')\n",
    "ax.legend()\n",
    "ax.grid(ls = '--')"
   ]
  },
  {
   "cell_type": "code",
   "execution_count": 23,
   "metadata": {},
   "outputs": [
    {
     "name": "stdout",
     "output_type": "stream",
     "text": [
      "[[-0.42603335]\n",
      " [-0.42603335]\n",
      " [-0.42603335]\n",
      " [-0.42603335]\n",
      " [-0.42603335]\n",
      " [-0.42603335]\n",
      " [-0.42603335]\n",
      " [-0.42603335]\n",
      " [-0.42603335]\n",
      " [-0.42603335]\n",
      " [-0.42603335]\n",
      " [-0.42603335]\n",
      " [-0.42603335]\n",
      " [-0.42603335]\n",
      " [-0.42603335]\n",
      " [-0.42603335]\n",
      " [-0.42603335]\n",
      " [-0.42603335]\n",
      " [-0.42603335]\n",
      " [-0.42603335]]\n"
     ]
    }
   ],
   "source": [
    "print(F_pred)"
   ]
  },
  {
   "cell_type": "code",
   "execution_count": 15,
   "metadata": {},
   "outputs": [
    {
     "data": {
      "text/plain": [
       "array([ 1.        ,  1.47368421,  1.94736842,  2.42105263,  2.89473684,\n",
       "        3.36842105,  3.84210526,  4.31578947,  4.78947368,  5.26315789,\n",
       "        5.73684211,  6.21052632,  6.68421053,  7.15789474,  7.63157895,\n",
       "        8.10526316,  8.57894737,  9.05263158,  9.52631579, 10.        ])"
      ]
     },
     "execution_count": 15,
     "metadata": {},
     "output_type": "execute_result"
    }
   ],
   "source": [
    "model.train_dataset.d_array"
   ]
  },
  {
   "cell_type": "markdown",
   "metadata": {},
   "source": [
    "## Deprecated"
   ]
  },
  {
   "cell_type": "code",
   "execution_count": 12,
   "metadata": {},
   "outputs": [],
   "source": [
    "from torchviz import make_dot, make_dot_from_trace\n",
    "\n",
    "# Remember that you can use make_dot, make_dot_from_trace to get a nice visualization of the model flow\n",
    "# But this does need one epoch of forward propagation, which is extremely costly in the steady state model\n",
    "# The corresponding script to remember is:\n",
    "# make_dot(loss, params=dict(nnode.named_parameters()))"
   ]
  }
 ],
 "metadata": {
  "kernelspec": {
   "display_name": "Python 3",
   "language": "python",
   "name": "python3"
  },
  "language_info": {
   "codemirror_mode": {
    "name": "ipython",
    "version": 3
   },
   "file_extension": ".py",
   "mimetype": "text/x-python",
   "name": "python",
   "nbconvert_exporter": "python",
   "pygments_lexer": "ipython3",
   "version": "3.7.5"
  }
 },
 "nbformat": 4,
 "nbformat_minor": 2
}
