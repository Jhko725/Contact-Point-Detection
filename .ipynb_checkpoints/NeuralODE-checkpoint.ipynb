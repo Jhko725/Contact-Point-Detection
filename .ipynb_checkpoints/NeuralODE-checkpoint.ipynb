{
 "cells": [
  {
   "cell_type": "code",
   "execution_count": 1,
   "metadata": {},
   "outputs": [],
   "source": [
    "import numpy as np\n",
    "import os\n",
    "from scipy.integrate import solve_ivp\n",
    "import matplotlib.pyplot as plt\n",
    "from cp_detection.NeuralODE import GeneralModeDataset, LightningTrainer\n",
    "from cp_detection.ForceSimulation import ForcedHarmonicOscillator,  SimulateGeneralMode\n",
    "from cp_detection.InteractionForce import DMT_Maugis\n",
    "import torch"
   ]
  },
  {
   "cell_type": "markdown",
   "metadata": {},
   "source": [
    "## Define force model as well as QTF model to be used in simulating data"
   ]
  },
  {
   "cell_type": "code",
   "execution_count": 2,
   "metadata": {},
   "outputs": [],
   "source": [
    "DMT = DMT_Maugis(0.2, 10, 2, 130, 1, 0.3, 0.3)\n",
    "ode_params = {'Q':12000, 'A0':1, 'Om':1., 'k':1000}\n",
    "FHO = ForcedHarmonicOscillator(**ode_params, force_model = DMT)\n",
    "#FHO = ForcedHarmonicOscillator(**ode_params, force_model = Null)"
   ]
  },
  {
   "cell_type": "markdown",
   "metadata": {},
   "source": [
    "## Simulate general mode approach curve data"
   ]
  },
  {
   "cell_type": "raw",
   "metadata": {},
   "source": [
    "d_array = np.linspace(1, 10, 20)\n",
    "t, z_array = SimulateGeneralMode(FHO, d_array, 0.1, 10000, relaxation = 0, rtol = 1e-7)\n",
    "z_array.shape"
   ]
  },
  {
   "cell_type": "raw",
   "metadata": {
    "scrolled": true
   },
   "source": [
    "_, ax = plt.subplots(1, 1, figsize = (16, 5))\n",
    "ax.plot(t[-1000:], z_array[0,:], 'k')\n",
    "ax.grid(ls = '--')\n",
    "ax.axvline(x = 5*2*ode_params['Q'], color = 'b')\n",
    "#ax.axvline(x = 10*2*ode_params['Q'], color = 'r')"
   ]
  },
  {
   "cell_type": "raw",
   "metadata": {},
   "source": [
    "import json\n",
    "savepath = './Data/transient_test2.json'\n",
    "savedata = {'ode_params':ode_params, 'd_array': d_array.tolist(), 'z_array': z_array.tolist(), 't' : t.tolist()}\n",
    "with open(savepath, 'w') as savefile:\n",
    "    json.dump(savedata, savefile)"
   ]
  },
  {
   "cell_type": "raw",
   "metadata": {},
   "source": [
    "savepath = './Data/digital.json'\n",
    "train_dataset = GeneralModeDataset.load(savepath)\n",
    "train_dataset.t = np.arange(1000)*0.1\n",
    "print(train_dataset.t)\n",
    "train_dataset.save('./Data/digital_fast.json')"
   ]
  },
  {
   "cell_type": "markdown",
   "metadata": {},
   "source": [
    "## Load simulated data and train the model"
   ]
  },
  {
   "cell_type": "code",
   "execution_count": 3,
   "metadata": {},
   "outputs": [],
   "source": [
    "#savepath = './Data/digital.json'\n",
    "#savepath = './Data/prototype_fake_data.json'\n",
    "#savepath = './Data/digital_snr=1000.json'\n",
    "savepath = './Data/digital_fast.json'\n",
    "hidden_nodes = torch.Tensor([50, 50, 50, 50])\n",
    "train_dataset = GeneralModeDataset.load(savepath)"
   ]
  },
  {
   "cell_type": "code",
   "execution_count": 4,
   "metadata": {},
   "outputs": [
    {
     "name": "stdout",
     "output_type": "stream",
     "text": [
      "GPU is available\n"
     ]
    }
   ],
   "source": [
    "if torch.cuda.is_available:\n",
    "    device = torch.device(\"cuda\")\n",
    "    print(\"GPU is available\")\n",
    "else:\n",
    "    device = torch.device(\"cpu\")\n",
    "    print(\"GPU not available, CPU used\")"
   ]
  },
  {
   "cell_type": "code",
   "execution_count": 5,
   "metadata": {},
   "outputs": [],
   "source": [
    "from argparse import Namespace\n",
    "hparams = Namespace(**{'lr': 0.01, 'batch_size': 20, 'solver': 'rk4', 'fft_loss': False, 'train_dataset_path': savepath, 'hidden_nodes': hidden_nodes})\n",
    "model = LightningTrainer(hparams)"
   ]
  },
  {
   "cell_type": "code",
   "execution_count": 6,
   "metadata": {},
   "outputs": [
    {
     "name": "stdout",
     "output_type": "stream",
     "text": [
      "<class 'torch.Tensor'> torch.Size([20])\n",
      "<class 'torch.Tensor'> torch.Size([50, 1])\n",
      "<class 'torch.Tensor'> torch.Size([50])\n",
      "<class 'torch.Tensor'> torch.Size([50, 50])\n",
      "<class 'torch.Tensor'> torch.Size([50])\n",
      "<class 'torch.Tensor'> torch.Size([50, 50])\n",
      "<class 'torch.Tensor'> torch.Size([50])\n",
      "<class 'torch.Tensor'> torch.Size([50, 50])\n",
      "<class 'torch.Tensor'> torch.Size([50])\n",
      "<class 'torch.Tensor'> torch.Size([1, 50])\n",
      "<class 'torch.Tensor'> torch.Size([1])\n"
     ]
    }
   ],
   "source": [
    "for param in model.parameters():\n",
    "    print(type(param.data), param.size())\n"
   ]
  },
  {
   "cell_type": "code",
   "execution_count": 7,
   "metadata": {
    "scrolled": true
   },
   "outputs": [
    {
     "name": "stderr",
     "output_type": "stream",
     "text": [
      "/home/jhko725/anaconda3/envs/TorchDiff/lib/python3.7/site-packages/pytorch_lightning/utilities/warnings.py:18: UserWarning: Checkpoint directory ./checkpoints exists and is not empty with save_top_k != 0.All files in this directory will be deleted when a checkpoint is saved!\n",
      "  warnings.warn(*args, **kwargs)\n",
      "INFO:lightning:GPU available: True, used: True\n",
      "INFO:lightning:VISIBLE GPUS: 0\n",
      "INFO:lightning:\n",
      "  | Name            | Type          | Params\n",
      "----------------------------------------------\n",
      "0 | ODE             | AFM_NeuralODE | 7 K   \n",
      "1 | ODE.Fc          | F_cons        | 7 K   \n",
      "2 | ODE.Fc.layers   | ModuleList    | 7 K   \n",
      "3 | ODE.Fc.layers.0 | Linear        | 100   \n",
      "4 | ODE.Fc.layers.1 | Linear        | 2 K   \n",
      "5 | ODE.Fc.layers.2 | Linear        | 2 K   \n",
      "6 | ODE.Fc.layers.3 | Linear        | 2 K   \n",
      "7 | ODE.Fc.layers.4 | Linear        | 51    \n",
      "8 | ODE.Fc.elu      | ELU           | 0     \n",
      "9 | ODE.Fc.tanh     | Tanh          | 0     \n"
     ]
    },
    {
     "data": {
      "application/vnd.jupyter.widget-view+json": {
       "model_id": "e81e545070064bbc82b3b4817d9253a7",
       "version_major": 2,
       "version_minor": 0
      },
      "text/plain": [
       "HBox(children=(FloatProgress(value=1.0, bar_style='info', layout=Layout(flex='2'), max=1.0), HTML(value='')), …"
      ]
     },
     "metadata": {},
     "output_type": "display_data"
    },
    {
     "name": "stderr",
     "output_type": "stream",
     "text": [
      "/home/jhko725/anaconda3/envs/TorchDiff/lib/python3.7/site-packages/pytorch_lightning/utilities/warnings.py:18: RuntimeWarning: Displayed epoch numbers in the progress bar start from \"1\" until v0.6.x, but will start from \"0\" in v0.8.0.\n",
      "  warnings.warn(*args, **kwargs)\n",
      "/home/jhko725/anaconda3/envs/TorchDiff/lib/python3.7/site-packages/pytorch_lightning/utilities/warnings.py:18: UserWarning: The dataloader, train dataloader, does not have many workers which may be a bottleneck. Consider increasing the value of the `num_workers` argument` in the `DataLoader` init to improve performance.\n",
      "  warnings.warn(*args, **kwargs)\n",
      "INFO:lightning:\n",
      "Epoch 00000: loss reached 0.00009 (best 0.00009), saving model to ./checkpoints/epoch=0_v0.ckpt as top 1\n",
      "INFO:lightning:\n",
      "Epoch 00001: loss  was not in top 1\n",
      "INFO:lightning:\n",
      "Epoch 00002: loss  was not in top 1\n",
      "INFO:lightning:\n",
      "Epoch 00003: loss  was not in top 1\n",
      "INFO:lightning:\n",
      "Epoch 00004: loss  was not in top 1\n",
      "INFO:lightning:\n",
      "Epoch 00005: loss  was not in top 1\n",
      "INFO:lightning:Detected KeyboardInterrupt, attempting graceful shutdown...\n"
     ]
    },
    {
     "name": "stdout",
     "output_type": "stream",
     "text": [
      "\n"
     ]
    }
   ],
   "source": [
    "model.TrainModel(checkpoint_path = './checkpoints')"
   ]
  },
  {
   "cell_type": "markdown",
   "metadata": {},
   "source": [
    "## Load trained model, evaluate results"
   ]
  },
  {
   "cell_type": "code",
   "execution_count": 18,
   "metadata": {},
   "outputs": [],
   "source": [
    "checkpoint_path = './checkpoints/epoch=180.ckpt'\n",
    "#checkpoint_path = './hall_of_fame/20200206/_ckpt_epoch_319.ckpt'\n",
    "model = LightningTrainer.LoadModel(checkpoint_path)"
   ]
  },
  {
   "cell_type": "code",
   "execution_count": 19,
   "metadata": {},
   "outputs": [],
   "source": [
    "d_array = np.linspace(1, 10, 20)\n",
    "model.cuda()\n",
    "F_pred = model.predict_force(d_array)\n",
    "z_array = np.zeros((2, d_array.size))\n",
    "z_array[1, :] = d_array\n",
    "F_true = DMT(z_array).flatten()"
   ]
  },
  {
   "cell_type": "code",
   "execution_count": 20,
   "metadata": {},
   "outputs": [
    {
     "data": {
      "image/png": "[encoded data removed]",
      "text/plain": [
       "<Figure size 504x360 with 1 Axes>"
      ]
     },
     "metadata": {
      "needs_background": "light"
     },
     "output_type": "display_data"
    }
   ],
   "source": [
    "fig, ax = plt.subplots(1, 1, figsize = (7, 5))\n",
    "ax.plot(d_array, F_pred, '.r', label = 'NN prediction')\n",
    "ax.plot(d_array, F_true, '.k', label = 'True Force')\n",
    "ax.legend()\n",
    "ax.grid(ls = '--')"
   ]
  },
  {
   "cell_type": "code",
   "execution_count": 23,
   "metadata": {},
   "outputs": [
    {
     "name": "stdout",
     "output_type": "stream",
     "text": [
      "[[-0.42603335]\n",
      " [-0.42603335]\n",
      " [-0.42603335]\n",
      " [-0.42603335]\n",
      " [-0.42603335]\n",
      " [-0.42603335]\n",
      " [-0.42603335]\n",
      " [-0.42603335]\n",
      " [-0.42603335]\n",
      " [-0.42603335]\n",
      " [-0.42603335]\n",
      " [-0.42603335]\n",
      " [-0.42603335]\n",
      " [-0.42603335]\n",
      " [-0.42603335]\n",
      " [-0.42603335]\n",
      " [-0.42603335]\n",
      " [-0.42603335]\n",
      " [-0.42603335]\n",
      " [-0.42603335]]\n"
     ]
    }
   ],
   "source": [
    "print(F_pred)"
   ]
  },
  {
   "cell_type": "code",
   "execution_count": 15,
   "metadata": {},
   "outputs": [
    {
     "data": {
      "text/plain": [
       "array([ 1.        ,  1.47368421,  1.94736842,  2.42105263,  2.89473684,\n",
       "        3.36842105,  3.84210526,  4.31578947,  4.78947368,  5.26315789,\n",
       "        5.73684211,  6.21052632,  6.68421053,  7.15789474,  7.63157895,\n",
       "        8.10526316,  8.57894737,  9.05263158,  9.52631579, 10.        ])"
      ]
     },
     "execution_count": 15,
     "metadata": {},
     "output_type": "execute_result"
    }
   ],
   "source": [
    "model.train_dataset.d_array"
   ]
  },
  {
   "cell_type": "markdown",
   "metadata": {},
   "source": [
    "## Deprecated"
   ]
  },
  {
   "cell_type": "code",
   "execution_count": 12,
   "metadata": {},
   "outputs": [],
   "source": [
    "from torchviz import make_dot, make_dot_from_trace\n",
    "\n",
    "# Remember that you can use make_dot, make_dot_from_trace to get a nice visualization of the model flow\n",
    "# But this does need one epoch of forward propagation, which is extremely costly in the steady state model\n",
    "# The corresponding script to remember is:\n",
    "# make_dot(loss, params=dict(nnode.named_parameters()))"
   ]
  }
 ],
 "metadata": {
  "kernelspec": {
   "display_name": "Python 3",
   "language": "python",
   "name": "python3"
  },
  "language_info": {
   "codemirror_mode": {
    "name": "ipython",
    "version": 3
   },
   "file_extension": ".py",
   "mimetype": "text/x-python",
   "name": "python",
   "nbconvert_exporter": "python",
   "pygments_lexer": "ipython3",
   "version": "3.7.5"
  }
 },
 "nbformat": 4,
 "nbformat_minor": 2
}
