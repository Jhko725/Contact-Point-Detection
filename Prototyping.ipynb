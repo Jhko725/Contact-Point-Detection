{
 "cells": [
  {
   "cell_type": "code",
   "execution_count": 1,
   "metadata": {},
   "outputs": [],
   "source": [
    "import dropbox as db"
   ]
  },
  {
   "cell_type": "code",
   "execution_count": 23,
   "metadata": {},
   "outputs": [
    {
     "data": {
      "text/plain": [
       "FullAccount(account_id='dbid:AAAPaFbgZ900rnnN_KWiWuO_xeCLY-ftv8c', name=Name(given_name='Lab', surname='Jhe', familiar_name='Jhe Lab', display_name='Jhe Lab', abbreviated_name='JL'), email='jhelab.snu@gmail.com', email_verified=True, disabled=False, locale='ko', referral_link='https://www.dropbox.com/referrals/AABhUqxwE3HfZM4rvYYsQvzJ4lpXK8vKTzk?src=app9-6811472', is_paired=False, account_type=AccountType('pro', None), root_info=UserRootInfo(root_namespace_id='4797143216', home_namespace_id='4797143216'), profile_photo_url=None, country='KR', team=None, team_member_id=None)"
      ]
     },
     "execution_count": 23,
     "metadata": {},
     "output_type": "execute_result"
    }
   ],
   "source": [
    "dbx = db.Dropbox('3xr6gRMjL5AAAAAAAABHSTsOTUd_es-5Q6n_GPSkx790KlsCv7Nc4grrOGoyPDhz')\n",
    "dbx.users_get_current_account()"
   ]
  },
  {
   "cell_type": "code",
   "execution_count": 27,
   "metadata": {},
   "outputs": [
    {
     "name": "stdout",
     "output_type": "stream",
     "text": [
      "[FolderMetadata(name='Shear mode', id='id:ZawDs6pRfVAAAAAAAASjkQ', path_lower='/23-215 ml afm/data/shear mode', path_display='/23-215 ml afm/Data/Shear mode', parent_shared_folder_id=None, shared_folder_id=None, sharing_info=None, property_groups=None), FolderMetadata(name='Tapping mode', id='id:ZawDs6pRfVAAAAAAAASjkw', path_lower='/23-215 ml afm/data/tapping mode', path_display='/23-215 ml afm/Data/Tapping mode', parent_shared_folder_id=None, shared_folder_id=None, sharing_info=None, property_groups=None), FolderMetadata(name='2019.03.29', id='id:ZawDs6pRfVAAAAAAAATBgg', path_lower='/23-215 ml afm/data/2019.03.29', path_display='/23-215 ml afm/Data/2019.03.29', parent_shared_folder_id=None, shared_folder_id=None, sharing_info=None, property_groups=None), FolderMetadata(name='General mode', id='id:ZawDs6pRfVAAAAAAAAURcg', path_lower='/23-215 ml afm/data/general mode', path_display='/23-215 ml afm/Data/General mode', parent_shared_folder_id=None, shared_folder_id=None, sharing_info=None, property_groups=None), FolderMetadata(name='Miscellaneous', id='id:ZawDs6pRfVAAAAAAAAUZRg', path_lower='/23-215 ml afm/data/miscellaneous', path_display='/23-215 ml afm/Data/Miscellaneous', parent_shared_folder_id=None, shared_folder_id=None, sharing_info=None, property_groups=None)]\n"
     ]
    }
   ],
   "source": [
    "print(dbx.files_list_folder(path=\"/23-215 ML AFM/Data\").entries)"
   ]
  },
  {
   "cell_type": "code",
   "execution_count": 49,
   "metadata": {},
   "outputs": [
    {
     "name": "stdout",
     "output_type": "stream",
     "text": [
      "./Data/Experiment/Tapping/try12_32758.9_5.4_24.1_60/191109Approach 9.txt\n",
      "./Data/Experiment/Tapping/try12_32758.9_5.4_24.1_60/191109Approach 7.txt\n",
      "./Data/Experiment/Tapping/try12_32758.9_5.4_24.1_60/191109Approach 8.txt\n",
      "./Data/Experiment/Tapping/try12_32758.9_5.4_24.1_60/191109Approach 6.txt\n",
      "./Data/Experiment/Tapping/try12_32758.9_5.4_24.1_60/191109Approach10.txt\n",
      "./Data/Experiment/Tapping/try16_32760.1_5.7_23.6_50/1126Approach33.txt\n",
      "./Data/Experiment/Tapping/try16_32760.1_5.7_23.6_50/1126Approach38.txt\n",
      "./Data/Experiment/Tapping/try16_32760.1_5.7_23.6_50/1126Approach32.txt\n",
      "./Data/Experiment/Tapping/try16_32760.1_5.7_23.6_50/1126Approach40.txt\n",
      "./Data/Experiment/Tapping/try16_32760.1_5.7_23.6_50/1126Approach31.txt\n",
      "./Data/Experiment/Tapping/try16_32760.1_5.7_23.6_50/1126Approach39.txt\n",
      "./Data/Experiment/Tapping/try16_32760.1_5.7_23.6_50/1126Approach42.txt\n",
      "./Data/Experiment/Tapping/try16_32760.1_5.7_23.6_50/1126Approach34.txt\n",
      "./Data/Experiment/Tapping/try16_32760.1_5.7_23.6_50/1126Approach37.txt\n",
      "./Data/Experiment/Tapping/try16_32760.1_5.7_23.6_50/1126Approach36.txt\n",
      "./Data/Experiment/Tapping/try16_32760.1_5.7_23.6_50/1126Approach35.txt\n",
      "./Data/Experiment/Tapping/try16_32760.1_5.7_23.6_50/1126Approach41.txt\n",
      "./Data/Experiment/Tapping/try13_32759.6_6.3_24.2_50/191112Approach11.txt\n",
      "./Data/Experiment/Tapping/try13_32759.6_6.3_24.2_50/191112Approach13.txt\n",
      "./Data/Experiment/Tapping/try13_32759.6_6.3_24.2_50/191112Approach12.txt\n",
      "./Data/Experiment/Tapping/try13_32759.6_6.3_24.2_50/191112Approach14.txt\n",
      "./Data/Experiment/Tapping/try10_32758.9_5.4_24.7_60/191108Approach 02.txt\n",
      "./Data/Experiment/Tapping/try11_32758.9_5.4_24.1_60/191108Approach 03.txt\n",
      "./Data/Experiment/Tapping/try11_32758.9_5.4_24.1_60/191108Approach 05.txt\n",
      "./Data/Experiment/Tapping/try11_32758.9_5.4_24.1_60/191108Approach 04.txt\n",
      "./Data/Experiment/Tapping/try14_32759.6_6.3_24.2_50/191112Approach16.txt\n",
      "./Data/Experiment/Tapping/try14_32759.6_6.3_24.2_50/191112Approach17.txt\n",
      "./Data/Experiment/Tapping/try15_32759.4_5.7_23.7_50/191114Approach28.txt\n",
      "./Data/Experiment/Tapping/try15_32759.4_5.7_23.7_50/191114Approach30.txt\n",
      "./Data/Experiment/Tapping/try15_32759.4_5.7_23.7_50/191114Approach19.txt\n",
      "./Data/Experiment/Tapping/try15_32759.4_5.7_23.7_50/191114Approach21.txt\n",
      "./Data/Experiment/Tapping/try15_32759.4_5.7_23.7_50/191114Approach26.txt\n",
      "./Data/Experiment/Tapping/try15_32759.4_5.7_23.7_50/191114Approach20.txt\n",
      "./Data/Experiment/Tapping/try15_32759.4_5.7_23.7_50/191114Approach22.txt\n"
     ]
    }
   ],
   "source": [
    "import glob\n",
    "import os\n",
    "data_dir = './Data/Experiment/Tapping'\n",
    "path = os.path.join(data_dir, '*', '*Approach*.'+'txt')\n",
    "for file in glob.iglob(path, recursive = True):\n",
    "    print(file)"
   ]
  },
  {
   "cell_type": "code",
   "execution_count": 33,
   "metadata": {},
   "outputs": [
    {
     "data": {
      "text/plain": [
       "['Experiment']"
      ]
     },
     "execution_count": 33,
     "metadata": {},
     "output_type": "execute_result"
    }
   ],
   "source": [
    "import os\n",
    "os.listdir(data_dir)"
   ]
  },
  {
   "cell_type": "code",
   "execution_count": null,
   "metadata": {},
   "outputs": [],
   "source": []
  }
 ],
 "metadata": {
  "kernelspec": {
   "display_name": "Python 3",
   "language": "python",
   "name": "python3"
  },
  "language_info": {
   "codemirror_mode": {
    "name": "ipython",
    "version": 3
   },
   "file_extension": ".py",
   "mimetype": "text/x-python",
   "name": "python",
   "nbconvert_exporter": "python",
   "pygments_lexer": "ipython3",
   "version": "3.7.5"
  }
 },
 "nbformat": 4,
 "nbformat_minor": 2
}
