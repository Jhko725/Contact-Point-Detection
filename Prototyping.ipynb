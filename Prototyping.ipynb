{
 "cells": [
  {
   "cell_type": "code",
   "execution_count": 1,
   "metadata": {},
   "outputs": [],
   "source": [
    "import dropbox as db"
   ]
  },
  {
   "cell_type": "code",
   "execution_count": 23,
   "metadata": {},
   "outputs": [
    {
     "data": {
      "text/plain": [
       "FullAccount(account_id='dbid:AAAPaFbgZ900rnnN_KWiWuO_xeCLY-ftv8c', name=Name(given_name='Lab', surname='Jhe', familiar_name='Jhe Lab', display_name='Jhe Lab', abbreviated_name='JL'), email='jhelab.snu@gmail.com', email_verified=True, disabled=False, locale='ko', referral_link='https://www.dropbox.com/referrals/AABhUqxwE3HfZM4rvYYsQvzJ4lpXK8vKTzk?src=app9-6811472', is_paired=False, account_type=AccountType('pro', None), root_info=UserRootInfo(root_namespace_id='4797143216', home_namespace_id='4797143216'), profile_photo_url=None, country='KR', team=None, team_member_id=None)"
      ]
     },
     "execution_count": 23,
     "metadata": {},
     "output_type": "execute_result"
    }
   ],
   "source": [
    "dbx = db.Dropbox('3xr6gRMjL5AAAAAAAABHSTsOTUd_es-5Q6n_GPSkx790KlsCv7Nc4grrOGoyPDhz')\n",
    "dbx.users_get_current_account()"
   ]
  },
  {
   "cell_type": "code",
   "execution_count": 27,
   "metadata": {},
   "outputs": [
    {
     "name": "stdout",
     "output_type": "stream",
     "text": [
      "[FolderMetadata(name='Shear mode', id='id:ZawDs6pRfVAAAAAAAASjkQ', path_lower='/23-215 ml afm/data/shear mode', path_display='/23-215 ml afm/Data/Shear mode', parent_shared_folder_id=None, shared_folder_id=None, sharing_info=None, property_groups=None), FolderMetadata(name='Tapping mode', id='id:ZawDs6pRfVAAAAAAAASjkw', path_lower='/23-215 ml afm/data/tapping mode', path_display='/23-215 ml afm/Data/Tapping mode', parent_shared_folder_id=None, shared_folder_id=None, sharing_info=None, property_groups=None), FolderMetadata(name='2019.03.29', id='id:ZawDs6pRfVAAAAAAAATBgg', path_lower='/23-215 ml afm/data/2019.03.29', path_display='/23-215 ml afm/Data/2019.03.29', parent_shared_folder_id=None, shared_folder_id=None, sharing_info=None, property_groups=None), FolderMetadata(name='General mode', id='id:ZawDs6pRfVAAAAAAAAURcg', path_lower='/23-215 ml afm/data/general mode', path_display='/23-215 ml afm/Data/General mode', parent_shared_folder_id=None, shared_folder_id=None, sharing_info=None, property_groups=None), FolderMetadata(name='Miscellaneous', id='id:ZawDs6pRfVAAAAAAAAUZRg', path_lower='/23-215 ml afm/data/miscellaneous', path_display='/23-215 ml afm/Data/Miscellaneous', parent_shared_folder_id=None, shared_folder_id=None, sharing_info=None, property_groups=None)]\n"
     ]
    }
   ],
   "source": [
    "print(dbx.files_list_folder(path=\"/23-215 ML AFM/Data\").entries)"
   ]
  },
  {
   "cell_type": "code",
   "execution_count": 4,
   "metadata": {},
   "outputs": [],
   "source": [
    "from cp_detection.FileParse import FileParser, Json2App\n",
    "from cp_detection.ApproachCurve import ApproachCurve"
   ]
  },
  {
   "cell_type": "code",
   "execution_count": 55,
   "metadata": {},
   "outputs": [
    {
     "name": "stdout",
     "output_type": "stream",
     "text": [
      "34 files loaded\n"
     ]
    }
   ],
   "source": [
    "data_dir = './Data/Experiment/Tapping'\n",
    "files = FileParser(data_dir, 'app', 'json')"
   ]
  },
  {
   "cell_type": "code",
   "execution_count": 57,
   "metadata": {},
   "outputs": [
    {
     "data": {
      "text/plain": [
       "dict_keys(['type', 'w', 'Q', 'w0', 'C0_C', 'phas_offset', 'I0_r', 'sens', 'piezoCf', 'IVgain', 'z', 'amp_r', 'phas_r', 'k', 'gnd', 'amp_e', 'phas_e', 'amp', 'phas', 'k_int', 'b_int', 'Fk1', 'Fk2', 'Fb', 'Edis', 'A0', 'Omega'])"
      ]
     },
     "execution_count": 57,
     "metadata": {},
     "output_type": "execute_result"
    }
   ],
   "source": [
    "import json\n",
    "with open(files[0]) as json_file:\n",
    "    json_data = json.load(json_file)\n",
    "json_data.keys()"
   ]
  },
  {
   "cell_type": "code",
   "execution_count": null,
   "metadata": {},
   "outputs": [],
   "source": []
  }
 ],
 "metadata": {
  "kernelspec": {
   "display_name": "Python 3",
   "language": "python",
   "name": "python3"
  },
  "language_info": {
   "codemirror_mode": {
    "name": "ipython",
    "version": 3
   },
   "file_extension": ".py",
   "mimetype": "text/x-python",
   "name": "python",
   "nbconvert_exporter": "python",
   "pygments_lexer": "ipython3",
   "version": "3.7.5"
  }
 },
 "nbformat": 4,
 "nbformat_minor": 2
}
